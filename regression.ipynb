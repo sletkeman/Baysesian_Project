{
 "cells": [
  {
   "cell_type": "code",
   "execution_count": 1,
   "id": "c6f4ea13",
   "metadata": {},
   "outputs": [
    {
     "output_type": "stream",
     "name": "stderr",
     "text": [
      "WARNING (theano.configdefaults): g++ not available, if using conda: `conda install m2w64-toolchain`\n",
      "WARNING (theano.configdefaults): g++ not detected ! Theano will be unable to execute optimized C-implementations (for both CPU and GPU) and will default to Python implementations. Performance will be severely degraded. To remove this warning, set Theano flags cxx to an empty string.\n",
      "WARNING (theano.tensor.blas): Using NumPy C-API based implementation for BLAS functions.\n",
      "Running on PyMC3 v3.11.2\n"
     ]
    }
   ],
   "source": [
    "import arviz as az\n",
    "import matplotlib.pyplot as plt\n",
    "import numpy as np\n",
    "import pymc3 as pm\n",
    "import pandas as pd\n",
    "\n",
    "print(f\"Running on PyMC3 v{pm.__version__}\")"
   ]
  },
  {
   "cell_type": "code",
   "execution_count": 2,
   "id": "aae0faf2",
   "metadata": {},
   "outputs": [],
   "source": [
    "# Initialize random number generator\n",
    "RANDOM_SEED = 8927\n",
    "np.random.seed(RANDOM_SEED)\n",
    "az.style.use(\"arviz-darkgrid\")"
   ]
  },
  {
   "cell_type": "code",
   "execution_count": 3,
   "id": "67bb1908",
   "metadata": {},
   "outputs": [
    {
     "output_type": "execute_result",
     "data": {
      "text/plain": [
       "   Unnamed: 0      Country  Year      Status  Life.expectancy  \\\n",
       "0          12  Afghanistan  2004  Developing             57.0   \n",
       "1          13  Afghanistan  2003  Developing             56.7   \n",
       "2          14  Afghanistan  2002  Developing             56.2   \n",
       "3          15  Afghanistan  2001  Developing             55.3   \n",
       "4          16  Afghanistan  2000  Developing             54.8   \n",
       "\n",
       "   Adult.Mortality  infant.deaths  Alcohol  percentage.expenditure  \\\n",
       "0              293             87     0.02               15.296066   \n",
       "1              295             87     0.01               11.089053   \n",
       "2                3             88     0.01               16.887351   \n",
       "3              316             88     0.01               10.574728   \n",
       "4              321             88     0.01               10.424960   \n",
       "\n",
       "   Hepatitis.B  ...  Polio  Total.expenditure  Diphtheria  HIV.AIDS  \\\n",
       "0         67.0  ...      5               8.79           5       0.1   \n",
       "1         65.0  ...     41               8.82          41       0.1   \n",
       "2         64.0  ...     36               7.76          36       0.1   \n",
       "3         63.0  ...     35               7.80          33       0.1   \n",
       "4         62.0  ...     24               8.20          24       0.1   \n",
       "\n",
       "          GDP  Population  thinness..1.19.years  thinness.5.9.years  \\\n",
       "0  219.141353  24118979.0                  19.5                19.7   \n",
       "1  198.728544   2364851.0                  19.7                19.9   \n",
       "2  187.845950  21979923.0                  19.9                 2.2   \n",
       "3  117.496980   2966463.0                   2.1                 2.4   \n",
       "4  114.560000    293756.0                   2.3                 2.5   \n",
       "\n",
       "   Income.composition.of.resources  Schooling  \n",
       "0                            0.381        6.8  \n",
       "1                            0.373        6.5  \n",
       "2                            0.341        6.2  \n",
       "3                            0.340        5.9  \n",
       "4                            0.338        5.5  \n",
       "\n",
       "[5 rows x 23 columns]"
      ],
      "text/html": "<div>\n<style scoped>\n    .dataframe tbody tr th:only-of-type {\n        vertical-align: middle;\n    }\n\n    .dataframe tbody tr th {\n        vertical-align: top;\n    }\n\n    .dataframe thead th {\n        text-align: right;\n    }\n</style>\n<table border=\"1\" class=\"dataframe\">\n  <thead>\n    <tr style=\"text-align: right;\">\n      <th></th>\n      <th>Unnamed: 0</th>\n      <th>Country</th>\n      <th>Year</th>\n      <th>Status</th>\n      <th>Life.expectancy</th>\n      <th>Adult.Mortality</th>\n      <th>infant.deaths</th>\n      <th>Alcohol</th>\n      <th>percentage.expenditure</th>\n      <th>Hepatitis.B</th>\n      <th>...</th>\n      <th>Polio</th>\n      <th>Total.expenditure</th>\n      <th>Diphtheria</th>\n      <th>HIV.AIDS</th>\n      <th>GDP</th>\n      <th>Population</th>\n      <th>thinness..1.19.years</th>\n      <th>thinness.5.9.years</th>\n      <th>Income.composition.of.resources</th>\n      <th>Schooling</th>\n    </tr>\n  </thead>\n  <tbody>\n    <tr>\n      <th>0</th>\n      <td>12</td>\n      <td>Afghanistan</td>\n      <td>2004</td>\n      <td>Developing</td>\n      <td>57.0</td>\n      <td>293</td>\n      <td>87</td>\n      <td>0.02</td>\n      <td>15.296066</td>\n      <td>67.0</td>\n      <td>...</td>\n      <td>5</td>\n      <td>8.79</td>\n      <td>5</td>\n      <td>0.1</td>\n      <td>219.141353</td>\n      <td>24118979.0</td>\n      <td>19.5</td>\n      <td>19.7</td>\n      <td>0.381</td>\n      <td>6.8</td>\n    </tr>\n    <tr>\n      <th>1</th>\n      <td>13</td>\n      <td>Afghanistan</td>\n      <td>2003</td>\n      <td>Developing</td>\n      <td>56.7</td>\n      <td>295</td>\n      <td>87</td>\n      <td>0.01</td>\n      <td>11.089053</td>\n      <td>65.0</td>\n      <td>...</td>\n      <td>41</td>\n      <td>8.82</td>\n      <td>41</td>\n      <td>0.1</td>\n      <td>198.728544</td>\n      <td>2364851.0</td>\n      <td>19.7</td>\n      <td>19.9</td>\n      <td>0.373</td>\n      <td>6.5</td>\n    </tr>\n    <tr>\n      <th>2</th>\n      <td>14</td>\n      <td>Afghanistan</td>\n      <td>2002</td>\n      <td>Developing</td>\n      <td>56.2</td>\n      <td>3</td>\n      <td>88</td>\n      <td>0.01</td>\n      <td>16.887351</td>\n      <td>64.0</td>\n      <td>...</td>\n      <td>36</td>\n      <td>7.76</td>\n      <td>36</td>\n      <td>0.1</td>\n      <td>187.845950</td>\n      <td>21979923.0</td>\n      <td>19.9</td>\n      <td>2.2</td>\n      <td>0.341</td>\n      <td>6.2</td>\n    </tr>\n    <tr>\n      <th>3</th>\n      <td>15</td>\n      <td>Afghanistan</td>\n      <td>2001</td>\n      <td>Developing</td>\n      <td>55.3</td>\n      <td>316</td>\n      <td>88</td>\n      <td>0.01</td>\n      <td>10.574728</td>\n      <td>63.0</td>\n      <td>...</td>\n      <td>35</td>\n      <td>7.80</td>\n      <td>33</td>\n      <td>0.1</td>\n      <td>117.496980</td>\n      <td>2966463.0</td>\n      <td>2.1</td>\n      <td>2.4</td>\n      <td>0.340</td>\n      <td>5.9</td>\n    </tr>\n    <tr>\n      <th>4</th>\n      <td>16</td>\n      <td>Afghanistan</td>\n      <td>2000</td>\n      <td>Developing</td>\n      <td>54.8</td>\n      <td>321</td>\n      <td>88</td>\n      <td>0.01</td>\n      <td>10.424960</td>\n      <td>62.0</td>\n      <td>...</td>\n      <td>24</td>\n      <td>8.20</td>\n      <td>24</td>\n      <td>0.1</td>\n      <td>114.560000</td>\n      <td>293756.0</td>\n      <td>2.3</td>\n      <td>2.5</td>\n      <td>0.338</td>\n      <td>5.5</td>\n    </tr>\n  </tbody>\n</table>\n<p>5 rows × 23 columns</p>\n</div>"
     },
     "metadata": {},
     "execution_count": 3
    }
   ],
   "source": [
    "df = pd.read_csv(\"C:\\\\Users\\\\Scott\\\\Baysesian_Project\\\\train.csv\")\n",
    "df.head()"
   ]
  },
  {
   "cell_type": "code",
   "execution_count": 21,
   "id": "c33d108d",
   "metadata": {},
   "outputs": [
    {
     "name": "stderr",
     "output_type": "stream",
     "text": [
      "Auto-assigning NUTS sampler...\n",
      "Initializing NUTS using jitter+adapt_diag...\n",
      "Multiprocess sampling (4 chains in 4 jobs)\n",
      "NUTS: [sigma, beta, alpha]\n"
     ]
    },
    {
     "data": {
      "text/html": [
       "\n",
       "    <div>\n",
       "        <style>\n",
       "            /* Turns off some styling */\n",
       "            progress {\n",
       "                /* gets rid of default border in Firefox and Opera. */\n",
       "                border: none;\n",
       "                /* Needs to be in here for Safari polyfill so background images work as expected. */\n",
       "                background-size: auto;\n",
       "            }\n",
       "            .progress-bar-interrupted, .progress-bar-interrupted::-webkit-progress-bar {\n",
       "                background: #F44336;\n",
       "            }\n",
       "        </style>\n",
       "      <progress value='6000' class='' max='6000' style='width:300px; height:20px; vertical-align: middle;'></progress>\n",
       "      100.00% [6000/6000 00:07<00:00 Sampling 4 chains, 0 divergences]\n",
       "    </div>\n",
       "    "
      ],
      "text/plain": [
       "<IPython.core.display.HTML object>"
      ]
     },
     "metadata": {},
     "output_type": "display_data"
    },
    {
     "name": "stderr",
     "output_type": "stream",
     "text": [
      "Sampling 4 chains for 1_000 tune and 500 draw iterations (4_000 + 2_000 draws total) took 17 seconds.\n",
      "The acceptance probability does not match the target. It is 0.9090007488741193, but should be close to 0.8. Try to increase the number of tuning steps.\n"
     ]
    }
   ],
   "source": [
    "basic_model = pm.Model()\n",
    "\n",
    "with basic_model:\n",
    "\n",
    "    # Priors for unknown model parameters\n",
    "    alpha = pm.Normal(\"alpha\", mu=0, sigma=10)\n",
    "    beta = pm.Normal(\"beta\", mu=0, sigma=10, shape=2)\n",
    "    sigma = pm.HalfNormal(\"sigma\", sigma=1)\n",
    "\n",
    "    # Expected value of outcome\n",
    "    mu = alpha + beta[0] * np.sqrt(df['MA'].values)\n",
    "\n",
    "    # Likelihood (sampling distribution) of observations\n",
    "    Y_obs = pm.Normal(\"Y_obs\", mu=mu, sigma=sigma, observed=df['Life.expectancy'].values)\n",
    "    \n",
    "    trace = pm.sample(500, return_inferencedata=False)"
   ]
  },
  {
   "cell_type": "code",
   "execution_count": 23,
   "id": "b42fe73c",
   "metadata": {},
   "outputs": [
    {
     "data": {
      "text/html": [
       "<div>\n",
       "<style scoped>\n",
       "    .dataframe tbody tr th:only-of-type {\n",
       "        vertical-align: middle;\n",
       "    }\n",
       "\n",
       "    .dataframe tbody tr th {\n",
       "        vertical-align: top;\n",
       "    }\n",
       "\n",
       "    .dataframe thead th {\n",
       "        text-align: right;\n",
       "    }\n",
       "</style>\n",
       "<table border=\"1\" class=\"dataframe\">\n",
       "  <thead>\n",
       "    <tr style=\"text-align: right;\">\n",
       "      <th></th>\n",
       "      <th>mean</th>\n",
       "      <th>sd</th>\n",
       "      <th>hdi_3%</th>\n",
       "      <th>hdi_97%</th>\n",
       "      <th>mcse_mean</th>\n",
       "      <th>mcse_sd</th>\n",
       "      <th>ess_bulk</th>\n",
       "      <th>ess_tail</th>\n",
       "      <th>r_hat</th>\n",
       "    </tr>\n",
       "  </thead>\n",
       "  <tbody>\n",
       "    <tr>\n",
       "      <th>alpha</th>\n",
       "      <td>-17.64</td>\n",
       "      <td>0.38</td>\n",
       "      <td>-18.32</td>\n",
       "      <td>-16.93</td>\n",
       "      <td>0.01</td>\n",
       "      <td>0.01</td>\n",
       "      <td>684.32</td>\n",
       "      <td>899.31</td>\n",
       "      <td>1.0</td>\n",
       "    </tr>\n",
       "    <tr>\n",
       "      <th>beta[0]</th>\n",
       "      <td>17.87</td>\n",
       "      <td>0.15</td>\n",
       "      <td>17.58</td>\n",
       "      <td>18.14</td>\n",
       "      <td>0.01</td>\n",
       "      <td>0.00</td>\n",
       "      <td>655.59</td>\n",
       "      <td>931.09</td>\n",
       "      <td>1.0</td>\n",
       "    </tr>\n",
       "    <tr>\n",
       "      <th>beta[1]</th>\n",
       "      <td>0.16</td>\n",
       "      <td>9.41</td>\n",
       "      <td>-19.16</td>\n",
       "      <td>16.25</td>\n",
       "      <td>0.27</td>\n",
       "      <td>0.21</td>\n",
       "      <td>1208.45</td>\n",
       "      <td>1278.63</td>\n",
       "      <td>1.0</td>\n",
       "    </tr>\n",
       "    <tr>\n",
       "      <th>sigma</th>\n",
       "      <td>1.56</td>\n",
       "      <td>0.05</td>\n",
       "      <td>1.47</td>\n",
       "      <td>1.65</td>\n",
       "      <td>0.00</td>\n",
       "      <td>0.00</td>\n",
       "      <td>1554.40</td>\n",
       "      <td>1362.28</td>\n",
       "      <td>1.0</td>\n",
       "    </tr>\n",
       "  </tbody>\n",
       "</table>\n",
       "</div>"
      ],
      "text/plain": [
       "          mean    sd  hdi_3%  hdi_97%  mcse_mean  mcse_sd  ess_bulk  ess_tail  \\\n",
       "alpha   -17.64  0.38  -18.32   -16.93       0.01     0.01    684.32    899.31   \n",
       "beta[0]  17.87  0.15   17.58    18.14       0.01     0.00    655.59    931.09   \n",
       "beta[1]   0.16  9.41  -19.16    16.25       0.27     0.21   1208.45   1278.63   \n",
       "sigma     1.56  0.05    1.47     1.65       0.00     0.00   1554.40   1362.28   \n",
       "\n",
       "         r_hat  \n",
       "alpha      1.0  \n",
       "beta[0]    1.0  \n",
       "beta[1]    1.0  \n",
       "sigma      1.0  "
      ]
     },
     "metadata": {},
     "output_type": "display_data"
    }
   ],
   "source": [
    "with basic_model:\n",
    "    display(az.summary(trace, round_to=2))"
   ]
  },
  {
   "cell_type": "code",
   "execution_count": null,
   "id": "58219293",
   "metadata": {},
   "outputs": [],
   "source": []
  }
 ],
 "metadata": {
  "kernelspec": {
   "name": "pythonjvsc74a57bd03ef9d4c5ce557967c19d2d3069d5d09f3bbd698390febd5d6dd360805379eb4e",
   "display_name": "Python 3.9.1  ('venv': venv)"
  },
  "language_info": {
   "codemirror_mode": {
    "name": "ipython",
    "version": 3
   },
   "file_extension": ".py",
   "mimetype": "text/x-python",
   "name": "python",
   "nbconvert_exporter": "python",
   "pygments_lexer": "ipython3",
   "version": "3.9.1"
  },
  "metadata": {
   "interpreter": {
    "hash": "3ef9d4c5ce557967c19d2d3069d5d09f3bbd698390febd5d6dd360805379eb4e"
   }
  }
 },
 "nbformat": 4,
 "nbformat_minor": 5
}