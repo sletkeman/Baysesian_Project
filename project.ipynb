{
 "cells": [
  {
   "cell_type": "code",
   "execution_count": 2,
   "id": "adf743af",
   "metadata": {},
   "outputs": [
    {
     "output_type": "stream",
     "name": "stderr",
     "text": [
      "WARNING (theano.configdefaults): g++ not available, if using conda: `conda install m2w64-toolchain`\n",
      "WARNING (theano.configdefaults): g++ not detected ! Theano will be unable to execute optimized C-implementations (for both CPU and GPU) and will default to Python implementations. Performance will be severely degraded. To remove this warning, set Theano flags cxx to an empty string.\n",
      "WARNING (theano.tensor.blas): Using NumPy C-API based implementation for BLAS functions.\n",
      "Running on PyMC3 v3.11.2\n"
     ]
    }
   ],
   "source": [
    "import arviz as az\n",
    "import matplotlib.pyplot as plt\n",
    "import numpy as np\n",
    "import pandas as pd\n",
    "import pymc3 as pm\n",
    "\n",
    "print(f\"Running on PyMC3 v{pm.__version__}\")"
   ]
  },
  {
   "cell_type": "code",
   "execution_count": 33,
   "id": "1a3ff7fb",
   "metadata": {},
   "outputs": [],
   "source": [
    "#df = pd.read_csv('/Users/sletkeman/Downloads/HW5/hadlock.csv')\n",
    "df = pd.read_csv(\"./train.csv\")\n",
    "df['ones'] = 1\n",
    "matrix = df[['ones', 'GDP', 'Adult.Mortality', 'BMI', 'Diphtheria' ,'HIV.AIDS', 'Income.composition.of.resources', 'Schooling']].to_numpy()"
   ]
  },
  {
   "cell_type": "code",
   "execution_count": 38,
   "id": "c9cf1b6c",
   "metadata": {},
   "outputs": [],
   "source": [
    "n = len(df.index)\n",
    "\n",
    "model = pm.Model()\n",
    "\n",
    "with model:\n",
    "    tau_likelihood = pm.Gamma(\"tau\", alpha=0.001, beta=0.001)\n",
    "\n",
    "    #tau_beta = n * np.linalg.inv(matrix.T.dot(matrix)) / tau_likelihood\n",
    "\n",
    "    # Priors for unknown model parameters\n",
    "    beta = pm.Normal(\"beta\", mu=0, tau=0.00001, shape=8)\n",
    "\n",
    "\n",
    "    # Expected value of outcome\n",
    "    mu = beta[0] \\\n",
    "      + beta[1] * df['GDP'].values \\\n",
    "      + beta[2] * df['Adult.Mortality'].values \\\n",
    "      + beta[3] * df['BMI'].values \\\n",
    "      + beta[4] * df['Diphtheria'].values \\\n",
    "      + beta[5] * df['HIV.AIDS'].values \\\n",
    "      + beta[6] * df['Income.composition.of.resources'].values \\\n",
    "      + beta[7] * df['Schooling'].values\n",
    "\n",
    "\n",
    "\n",
    "    # Likelihood (sampling distribution) of observations\n",
    "    Y_obs = pm.Normal(\"Y_obs\", mu=mu, tau=tau_likelihood, observed=df['Life.expectancy'].values)"
   ]
  },
  {
   "cell_type": "code",
   "execution_count": 39,
   "id": "969b148b",
   "metadata": {},
   "outputs": [
    {
     "output_type": "stream",
     "name": "stderr",
     "text": [
      "<ipython-input-39-0f387c8fbfb0>:5: FutureWarning: In v4.0, pm.sample will return an `arviz.InferenceData` object instead of a `MultiTrace` by default. You can pass return_inferencedata=True or return_inferencedata=False to be safe and silence this warning.\n",
      "  trace = pm.sample(SAMPLES, step, chains=2, tune=BURN)\n",
      "Multiprocess sampling (2 chains in 4 jobs)\n",
      "CompoundStep\n",
      ">Metropolis: [beta]\n",
      ">Metropolis: [tau]\n"
     ]
    },
    {
     "output_type": "display_data",
     "data": {
      "text/plain": "<IPython.core.display.HTML object>",
      "text/html": "\n    <div>\n        <style>\n            /* Turns off some styling */\n            progress {\n                /* gets rid of default border in Firefox and Opera. */\n                border: none;\n                /* Needs to be in here for Safari polyfill so background images work as expected. */\n                background-size: auto;\n            }\n            .progress-bar-interrupted, .progress-bar-interrupted::-webkit-progress-bar {\n                background: #F44336;\n            }\n        </style>\n      <progress value='0' class='' max='2200' style='width:300px; height:20px; vertical-align: middle;'></progress>\n      \n    </div>\n    "
     },
     "metadata": {}
    },
    {
     "output_type": "stream",
     "name": "stderr",
     "text": [
      "Sampling 2 chains for 100 tune and 1_000 draw iterations (200 + 2_000 draws total) took 234 seconds.\n",
      "The rhat statistic is larger than 1.4 for some parameters. The sampler did not converge.\n",
      "The estimated number of effective samples is smaller than 200 for some parameters.\n"
     ]
    },
    {
     "output_type": "display_data",
     "data": {
      "text/plain": "           mean      sd  hdi_3%  hdi_97%  mcse_mean  mcse_sd  ess_bulk  \\\nbeta[0] -0.3970  0.7713 -1.8949   0.0000     0.4966   0.4054    2.4123   \nbeta[1] -0.0003  0.0005 -0.0012   0.0000     0.0003   0.0003    2.4123   \nbeta[2] -0.0491  0.0954 -0.2343   0.0000     0.0614   0.0501    2.4123   \nbeta[3]  0.2232  0.4336  0.0000   1.0652     0.2792   0.2279    2.4123   \nbeta[4]  0.1407  0.2734  0.0000   0.6716     0.1760   0.1437    2.4123   \nbeta[5]  0.1463  0.2843  0.0000   0.6983     0.1830   0.1494    2.4123   \nbeta[6] -0.3762  0.7310 -1.7959   0.0000     0.4707   0.3842    2.4123   \nbeta[7] -0.0225  0.0436 -0.1072   0.0000     0.0281   0.0229    2.4123   \ntau      0.0003  0.0001  0.0002   0.0005     0.0001   0.0000    4.9703   \n\n         ess_tail   r_hat  \nbeta[0]    2.4123  2.4820  \nbeta[1]    2.4123  2.4820  \nbeta[2]    2.4123  2.4820  \nbeta[3]    2.4123  2.4820  \nbeta[4]    2.4123  2.4820  \nbeta[5]    2.4123  2.4820  \nbeta[6]    2.4123  2.4820  \nbeta[7]    2.4123  2.4820  \ntau      106.4701  1.4609  ",
      "text/html": "<div>\n<style scoped>\n    .dataframe tbody tr th:only-of-type {\n        vertical-align: middle;\n    }\n\n    .dataframe tbody tr th {\n        vertical-align: top;\n    }\n\n    .dataframe thead th {\n        text-align: right;\n    }\n</style>\n<table border=\"1\" class=\"dataframe\">\n  <thead>\n    <tr style=\"text-align: right;\">\n      <th></th>\n      <th>mean</th>\n      <th>sd</th>\n      <th>hdi_3%</th>\n      <th>hdi_97%</th>\n      <th>mcse_mean</th>\n      <th>mcse_sd</th>\n      <th>ess_bulk</th>\n      <th>ess_tail</th>\n      <th>r_hat</th>\n    </tr>\n  </thead>\n  <tbody>\n    <tr>\n      <th>beta[0]</th>\n      <td>-0.3970</td>\n      <td>0.7713</td>\n      <td>-1.8949</td>\n      <td>0.0000</td>\n      <td>0.4966</td>\n      <td>0.4054</td>\n      <td>2.4123</td>\n      <td>2.4123</td>\n      <td>2.4820</td>\n    </tr>\n    <tr>\n      <th>beta[1]</th>\n      <td>-0.0003</td>\n      <td>0.0005</td>\n      <td>-0.0012</td>\n      <td>0.0000</td>\n      <td>0.0003</td>\n      <td>0.0003</td>\n      <td>2.4123</td>\n      <td>2.4123</td>\n      <td>2.4820</td>\n    </tr>\n    <tr>\n      <th>beta[2]</th>\n      <td>-0.0491</td>\n      <td>0.0954</td>\n      <td>-0.2343</td>\n      <td>0.0000</td>\n      <td>0.0614</td>\n      <td>0.0501</td>\n      <td>2.4123</td>\n      <td>2.4123</td>\n      <td>2.4820</td>\n    </tr>\n    <tr>\n      <th>beta[3]</th>\n      <td>0.2232</td>\n      <td>0.4336</td>\n      <td>0.0000</td>\n      <td>1.0652</td>\n      <td>0.2792</td>\n      <td>0.2279</td>\n      <td>2.4123</td>\n      <td>2.4123</td>\n      <td>2.4820</td>\n    </tr>\n    <tr>\n      <th>beta[4]</th>\n      <td>0.1407</td>\n      <td>0.2734</td>\n      <td>0.0000</td>\n      <td>0.6716</td>\n      <td>0.1760</td>\n      <td>0.1437</td>\n      <td>2.4123</td>\n      <td>2.4123</td>\n      <td>2.4820</td>\n    </tr>\n    <tr>\n      <th>beta[5]</th>\n      <td>0.1463</td>\n      <td>0.2843</td>\n      <td>0.0000</td>\n      <td>0.6983</td>\n      <td>0.1830</td>\n      <td>0.1494</td>\n      <td>2.4123</td>\n      <td>2.4123</td>\n      <td>2.4820</td>\n    </tr>\n    <tr>\n      <th>beta[6]</th>\n      <td>-0.3762</td>\n      <td>0.7310</td>\n      <td>-1.7959</td>\n      <td>0.0000</td>\n      <td>0.4707</td>\n      <td>0.3842</td>\n      <td>2.4123</td>\n      <td>2.4123</td>\n      <td>2.4820</td>\n    </tr>\n    <tr>\n      <th>beta[7]</th>\n      <td>-0.0225</td>\n      <td>0.0436</td>\n      <td>-0.1072</td>\n      <td>0.0000</td>\n      <td>0.0281</td>\n      <td>0.0229</td>\n      <td>2.4123</td>\n      <td>2.4123</td>\n      <td>2.4820</td>\n    </tr>\n    <tr>\n      <th>tau</th>\n      <td>0.0003</td>\n      <td>0.0001</td>\n      <td>0.0002</td>\n      <td>0.0005</td>\n      <td>0.0001</td>\n      <td>0.0000</td>\n      <td>4.9703</td>\n      <td>106.4701</td>\n      <td>1.4609</td>\n    </tr>\n  </tbody>\n</table>\n</div>"
     },
     "metadata": {}
    }
   ],
   "source": [
    "SAMPLES = 1000\n",
    "BURN = 100\n",
    "with model:\n",
    "    step = pm.Metropolis()\n",
    "    trace = pm.sample(SAMPLES, step, chains=2, tune=BURN)\n",
    "    display(az.summary(trace, round_to=4))"
   ]
  },
  {
   "cell_type": "code",
   "execution_count": null,
   "id": "faf6e013",
   "metadata": {},
   "outputs": [],
   "source": [
    "    mu = beta[0] \\\n",
    "      + beta[1] * df['GDP'].values \\\n",
    "      + beta[2] * df['Adult.Mortality'].values \\\n",
    "      + beta[3] * df['BMI'].values \\\n",
    "      + beta[4] * df['Diphtheria'].values \\\n",
    "      + beta[5] * df['HIV.AIDS'].values \\\n",
    "      + beta[6] * df['Income.composition.of.resources'].values \\\n",
    "      + beta[7] * df['Schooling'].values"
   ]
  }
 ],
 "metadata": {
  "kernelspec": {
   "name": "pythonjvsc74a57bd03ef9d4c5ce557967c19d2d3069d5d09f3bbd698390febd5d6dd360805379eb4e",
   "display_name": "Python 3.9.1  ('venv': venv)"
  },
  "language_info": {
   "codemirror_mode": {
    "name": "ipython",
    "version": 3
   },
   "file_extension": ".py",
   "mimetype": "text/x-python",
   "name": "python",
   "nbconvert_exporter": "python",
   "pygments_lexer": "ipython3",
   "version": "3.9.1"
  },
  "metadata": {
   "interpreter": {
    "hash": "3ef9d4c5ce557967c19d2d3069d5d09f3bbd698390febd5d6dd360805379eb4e"
   }
  }
 },
 "nbformat": 4,
 "nbformat_minor": 5
}